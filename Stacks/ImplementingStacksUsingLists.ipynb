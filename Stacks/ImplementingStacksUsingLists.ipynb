{
 "cells": [
  {
   "cell_type": "code",
   "execution_count": 1,
   "id": "b7e2fb8f",
   "metadata": {},
   "outputs": [
    {
     "name": "stdout",
     "output_type": "stream",
     "text": [
      "Select the operation 1.push 2.pop 3.quit\n",
      "1\n",
      "Enter the element:10\n",
      "Current stack ['10']\n",
      "Select the operation 1.push 2.pop 3.quit\n",
      "1\n",
      "Enter the element:20\n",
      "Current stack ['10', '20']\n",
      "Select the operation 1.push 2.pop 3.quit\n",
      "2\n",
      "Item popped! 20\n",
      "Current Stack ['10']\n",
      "Select the operation 1.push 2.pop 3.quit\n",
      "3\n"
     ]
    }
   ],
   "source": [
    "stack = []\n",
    "\n",
    "def push_element():\n",
    "    element = input(\"Enter the element:\")\n",
    "    stack.append(element)\n",
    "    print(\"Current stack\",stack)\n",
    "    \n",
    "def pop_element():\n",
    "    \n",
    "    if not stack:    # to check if stck is empty\n",
    "        print(\"Stack is empty\") \n",
    "    else:\n",
    "        popped_item = stack.pop()\n",
    "        print(\"Item popped!\" , popped_item)\n",
    "        print(\"Current Stack\" , stack)\n",
    "        \n",
    "    \n",
    "while True:\n",
    "    \n",
    "    print(\"Select the operation 1.push 2.pop 3.quit\")\n",
    "    \n",
    "    choice = int(input())\n",
    "    \n",
    "    if choice ==1:\n",
    "        push_element()\n",
    "    elif choice ==2:\n",
    "        pop_element()\n",
    "    elif choice ==3:\n",
    "        break\n",
    "    else:\n",
    "        print(\"Enter the correct operation!\")\n",
    "    \n"
   ]
  },
  {
   "cell_type": "code",
   "execution_count": null,
   "id": "6fa45759",
   "metadata": {},
   "outputs": [],
   "source": []
  },
  {
   "cell_type": "code",
   "execution_count": null,
   "id": "9f3f3558",
   "metadata": {},
   "outputs": [],
   "source": []
  }
 ],
 "metadata": {
  "kernelspec": {
   "display_name": "Python 3",
   "language": "python",
   "name": "python3"
  },
  "language_info": {
   "codemirror_mode": {
    "name": "ipython",
    "version": 3
   },
   "file_extension": ".py",
   "mimetype": "text/x-python",
   "name": "python",
   "nbconvert_exporter": "python",
   "pygments_lexer": "ipython3",
   "version": "3.8.8"
  }
 },
 "nbformat": 4,
 "nbformat_minor": 5
}
