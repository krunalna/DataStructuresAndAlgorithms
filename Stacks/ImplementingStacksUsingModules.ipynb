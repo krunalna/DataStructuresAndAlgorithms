{
 "cells": [
  {
   "cell_type": "code",
   "execution_count": 1,
   "id": "f4be995f",
   "metadata": {},
   "outputs": [
    {
     "data": {
      "text/plain": [
       "30"
      ]
     },
     "execution_count": 1,
     "metadata": {},
     "output_type": "execute_result"
    }
   ],
   "source": [
    "#implementing Stack using modules\n",
    "\n",
    "#1 .Using deque class from collections module\n",
    "#push -- > use append method from deque class\n",
    "#pop -- > use pop method fromd deque class\n",
    "\n",
    "import collections\n",
    "\n",
    "stack = collections.deque()\n",
    "stack.append(10) #push 10\n",
    "stack.append(20) #push 20\n",
    "stack.append(30) # push 30\n",
    "stack.pop()      #pop latest item"
   ]
  },
  {
   "cell_type": "code",
   "execution_count": 3,
   "id": "5604734f",
   "metadata": {},
   "outputs": [
    {
     "data": {
      "text/plain": [
       "30"
      ]
     },
     "execution_count": 3,
     "metadata": {},
     "output_type": "execute_result"
    }
   ],
   "source": [
    "#implementing Stack using modules\n",
    "\n",
    "#1 .Using LIFOQUEUE class from Queue module\n",
    "#push -- > use put method from lifoqueue class\n",
    "#pop -- >  use get method from lifoqueue class\n",
    "\n",
    "import queue\n",
    "stack = queue.LifoQueue() # stack = queue.LifoQueue(10) - to set the limit for the stack\n",
    "stack.put(10)\n",
    "stack.put(20)\n",
    "stack.put(30)\n",
    "stack.get()\n"
   ]
  },
  {
   "cell_type": "code",
   "execution_count": null,
   "id": "12273ba3",
   "metadata": {},
   "outputs": [],
   "source": []
  }
 ],
 "metadata": {
  "kernelspec": {
   "display_name": "Python 3",
   "language": "python",
   "name": "python3"
  },
  "language_info": {
   "codemirror_mode": {
    "name": "ipython",
    "version": 3
   },
   "file_extension": ".py",
   "mimetype": "text/x-python",
   "name": "python",
   "nbconvert_exporter": "python",
   "pygments_lexer": "ipython3",
   "version": "3.8.8"
  }
 },
 "nbformat": 4,
 "nbformat_minor": 5
}
