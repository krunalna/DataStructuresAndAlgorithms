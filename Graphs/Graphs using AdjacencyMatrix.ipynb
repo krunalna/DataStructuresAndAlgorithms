{
 "cells": [
  {
   "cell_type": "code",
   "execution_count": 1,
   "id": "a8cbcdfa",
   "metadata": {},
   "outputs": [],
   "source": [
    "#Program to add node in the graph using Adjacent Matrix \n",
    "# For representing adjacent matrix, we use nested list\n",
    "\n",
    "#First list to store nodes - # second list to store matrix(1 if it has edge to another node, 0 if not)"
   ]
  },
  {
   "cell_type": "code",
   "execution_count": 10,
   "id": "02a96717",
   "metadata": {},
   "outputs": [],
   "source": [
    "nodes = []\n",
    "graph = [] # we will add the inner list later\n",
    "\n",
    "node_count = 0 # to keep a track of nodes\n",
    "\n",
    "def add_node(v):\n",
    "    global node_count\n",
    "    if v in nodes:\n",
    "        print(v, \" is already present in the graph\")\n",
    "    else:\n",
    "        node_count = node_count+1\n",
    "        nodes.append(v)\n",
    "        \n",
    "        for n in graph:  # to add coulum for the previous n nodes\n",
    "            n.append(0)\n",
    "            \n",
    "        temp = []\n",
    "        \n",
    "        for i in range(node_count): # add new row for the new node\n",
    "            temp.append(0)\n",
    "        \n",
    "        graph.append(temp)\n",
    "\n",
    "def add_edge(v1,v2):\n",
    "    if v1 not in nodes:\n",
    "        print(v1, \"is not present in the graph\")\n",
    "    elif v2 not in nodes:\n",
    "        print(v2, \"is not present in the graph\")\n",
    "        \n",
    "    else:\n",
    "        index_v1 = nodes.index(v1)\n",
    "        index_v2 = nodes.index(v2)\n",
    "        \n",
    "        graph[index_v1][index_v2] = 1\n",
    "        graph[index_v2][index_v1] = 1  # if graph is directed, commemnt this line\n",
    "        \n",
    "        \n",
    "def delete_node(v):\n",
    "    \n",
    "    global node_count\n",
    "    \n",
    "    if v not in nodes:\n",
    "        print(v, \"is not present in the graph\")\n",
    "        \n",
    "    else:\n",
    "        \n",
    "        index = nodes.index(v)\n",
    "        \n",
    "        node_count = node_count-1\n",
    "        nodes.remove(v)\n",
    "        \n",
    "        graph.pop(index) # remove the entire row related to the node v\n",
    "        \n",
    "        for i in graph:  # to remove the column related to the nodes in all other nodes/rows\n",
    "            i.pop(index)\n",
    "            \n",
    "def delete_edge(v1 ,v2):\n",
    "    \n",
    "    if v1 not in nodes:\n",
    "        print(v1,\" is not present in graph\")\n",
    "    elif v2 not in nodes:\n",
    "        print(v2, \" is  not present in graph\")\n",
    "        \n",
    "    else:\n",
    "        index_v1 = nodes.index(v1)\n",
    "        index_v2 = nodes.index(v2)\n",
    "        \n",
    "        graph[index_v1][index_v2] = 0\n",
    "        graph[index_v2][index_v1] = 0\n",
    "        \n",
    "        \n",
    "\n",
    "def print_graph():\n",
    "    for i in range(node_count):\n",
    "        for j in range(node_count):\n",
    "            print(graph[i][j], end =\" \")\n",
    "        print()\n"
   ]
  },
  {
   "cell_type": "code",
   "execution_count": 11,
   "id": "c88cabdb",
   "metadata": {},
   "outputs": [
    {
     "name": "stdout",
     "output_type": "stream",
     "text": [
      "Before adding nodes\n",
      "[]\n",
      "[]\n",
      "After adding nodes\n",
      "['A', 'B', 'C', 'D']\n",
      "0 1 1 0 \n",
      "1 0 1 0 \n",
      "1 1 0 1 \n",
      "0 0 1 0 \n"
     ]
    }
   ],
   "source": [
    "print(\"Before adding nodes\")\n",
    "print(nodes)\n",
    "print(graph)\n",
    "\n",
    "add_node(\"A\")\n",
    "add_node(\"B\")\n",
    "add_node(\"C\")\n",
    "add_node(\"D\")\n",
    "\n",
    "add_edge(\"A\", \"B\")\n",
    "add_edge(\"A\", \"C\")\n",
    "add_edge(\"B\",\"C\")\n",
    "add_edge(\"C\",\"D\")\n",
    "\n",
    "\n",
    "\n",
    "print(\"After adding nodes\")\n",
    "print(nodes)\n",
    "print_graph()\n",
    "#print(graph)\n",
    "\n"
   ]
  },
  {
   "cell_type": "code",
   "execution_count": 12,
   "id": "179cef34",
   "metadata": {},
   "outputs": [],
   "source": [
    "delete_node(\"C\")"
   ]
  },
  {
   "cell_type": "code",
   "execution_count": 13,
   "id": "0b68e6c1",
   "metadata": {},
   "outputs": [
    {
     "name": "stdout",
     "output_type": "stream",
     "text": [
      "0 1 0 \n",
      "1 0 0 \n",
      "0 0 0 \n"
     ]
    }
   ],
   "source": [
    "print_graph()"
   ]
  },
  {
   "cell_type": "code",
   "execution_count": null,
   "id": "6c57eac1",
   "metadata": {},
   "outputs": [],
   "source": []
  }
 ],
 "metadata": {
  "kernelspec": {
   "display_name": "Python 3",
   "language": "python",
   "name": "python3"
  },
  "language_info": {
   "codemirror_mode": {
    "name": "ipython",
    "version": 3
   },
   "file_extension": ".py",
   "mimetype": "text/x-python",
   "name": "python",
   "nbconvert_exporter": "python",
   "pygments_lexer": "ipython3",
   "version": "3.8.8"
  }
 },
 "nbformat": 4,
 "nbformat_minor": 5
}
