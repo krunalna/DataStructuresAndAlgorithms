{
 "cells": [
  {
   "cell_type": "code",
   "execution_count": 1,
   "id": "aaa80d1b",
   "metadata": {},
   "outputs": [],
   "source": [
    "#Implementing graph using Adjacency list representations\n",
    "\n",
    "#For Adjacency list representation, we use dictionary\n",
    "#Key is the nodes of the graph, values is list of adjacent nodes of the corresponding noes\n"
   ]
  },
  {
   "cell_type": "code",
   "execution_count": 1,
   "id": "515f4761",
   "metadata": {},
   "outputs": [],
   "source": [
    "graph  = {}\n",
    "\n",
    "def add_node(v):\n",
    "    \n",
    "    if v in graph.keys():\n",
    "        print(v, \"is already present in the graph\")\n",
    "    else:\n",
    "        graph[v]= []\n",
    "\n",
    "def add_edge(v1, v2):   # function for unweighted, undirected graph\n",
    "    \n",
    "    if v1 not in graph.keys():\n",
    "        print(v1, \"is not present in the graph\")\n",
    "    elif v2 not in graph.keys():\n",
    "        print(v2, \"is not present in the graph\")\n",
    "    else:\n",
    "        graph[v1].append(v2)\n",
    "        graph[v2].append(v1)\n",
    "\n",
    "def add_edge_uw(v1,v2, cost):  # function for undirected, weighted graph\n",
    "    \n",
    "    if v1 not in graph.keys():\n",
    "        print(v1, \"is not present in the graph\")\n",
    "    elif v2 not in graph.keys():\n",
    "        print(v2, \"is not present in the graph\")\n",
    "        \n",
    "    else:\n",
    "        list1 = [v2, cost]\n",
    "        list2 = [v1, cost]\n",
    "        \n",
    "        graph[v1].append(list1)\n",
    "        graph[v2].append(list2)\n",
    "        \n",
    "def add_edge_du(v1,v2):    # function for directed, unweighted graph\n",
    "    \n",
    "    if v1 not in graph.keys():\n",
    "        print(v1, \"is not present in the graph\")\n",
    "    elif v2 not in graph.keys():\n",
    "        print(v2, \"is not present in the graph\")\n",
    "    else:\n",
    "        graph[v1].append(v2)\n",
    "        \n",
    "\n",
    "def add_edge_dw(v1,v2, cost):  # function for directed, weighted graph\n",
    "    \n",
    "    if v1 not in graph.keys():\n",
    "        print(v1, \"is not present in the graph\")\n",
    "    elif v2 not in graph.keys():\n",
    "        print(v2, \"is not present in the graph\")\n",
    "        \n",
    "    else:\n",
    "        list1 = [v2, cost]\n",
    "        \n",
    "        graph[v1].append(list1)\n",
    "        \n",
    "def delete_node(v):   #function for unweighted-directed/ unweighted-undirected\n",
    "    \n",
    "    if v not in graph.keys():\n",
    "        print(v, \" is not present in the graph\")\n",
    "        \n",
    "    else:\n",
    "        \n",
    "        temp = graph[v]\n",
    "        \n",
    "        graph.pop(v)\n",
    "        \n",
    "        for i in graph:\n",
    "            \n",
    "            list1 = graph[i]\n",
    "            \n",
    "            if v in list1:\n",
    "                list1.remove(v)\n",
    "        \n",
    "def delete_node_uw(v):  # function to delete node from undirected- weighted graph\n",
    "    \n",
    "    if v not in graph.keys():\n",
    "        print(v, \" is not present in the graph\")\n",
    "        \n",
    "    else:\n",
    "        graph.pop(v)\n",
    "        \n",
    "        for i in graph:\n",
    "            list1 = graph[i]\n",
    "            \n",
    "            for j in list1:\n",
    "                if v == j[0]:\n",
    "                    list1.remove(j)\n",
    "                    break\n",
    "                    \n",
    "\n",
    "def delete_edge(v1,v2):    # for unweighted graphs - both directed and undirected\n",
    "    \n",
    "    if v1 not in graph.keys:\n",
    "        print(v1, \" is not present in the graph\")\n",
    "    elif v2 not in graph:\n",
    "        print(v2, \"is not present in the graph\")\n",
    "    else:\n",
    "        \n",
    "        if v2 in graph[v1]:\n",
    "            graph[v1].remove(v2)\n",
    "            graph[v2].remove(v1)  # comment this line for directed graph\n",
    "\n",
    "def delete_edge_w(v1,v2, cost):\n",
    "    \n",
    "    if v1 not in graph.keys:\n",
    "        print(v1, \" is not present in the graph\")\n",
    "    elif v2 not in graph:\n",
    "        print(v2, \"is not present in the graph\")\n",
    "    else:\n",
    "        \n",
    "        temp = [v1, cost]\n",
    "        temp1 = [v2, cost]\n",
    "        \n",
    "        if temp in graph[v1]:\n",
    "            graph[v1].remove(temp1)\n",
    "            graph[v2].remove(temp)\n",
    "        \n",
    "    "
   ]
  },
  {
   "cell_type": "code",
   "execution_count": 2,
   "id": "51afdee7",
   "metadata": {},
   "outputs": [
    {
     "name": "stdout",
     "output_type": "stream",
     "text": [
      "{'A': []}\n"
     ]
    }
   ],
   "source": [
    "add_node(\"A\")\n",
    "print(graph)"
   ]
  },
  {
   "cell_type": "code",
   "execution_count": 12,
   "id": "cfc79c34",
   "metadata": {},
   "outputs": [
    {
     "name": "stdout",
     "output_type": "stream",
     "text": [
      "{'A': ['B', 'C'], 'B': ['A'], 'C': ['A']}\n"
     ]
    }
   ],
   "source": [
    "add_node(\"A\")\n",
    "add_node(\"B\")\n",
    "add_node(\"C\")\n",
    "add_edge(\"A\",\"B\")\n",
    "add_edge(\"A\",\"C\")\n",
    "print(graph)"
   ]
  },
  {
   "cell_type": "code",
   "execution_count": 26,
   "id": "6fc4f33a",
   "metadata": {},
   "outputs": [],
   "source": [
    "add_node(\"B\")"
   ]
  },
  {
   "cell_type": "code",
   "execution_count": 27,
   "id": "77ef7e53",
   "metadata": {},
   "outputs": [
    {
     "name": "stdout",
     "output_type": "stream",
     "text": [
      "{'A': [], 'B': []}\n"
     ]
    }
   ],
   "source": [
    "print(graph)"
   ]
  },
  {
   "cell_type": "code",
   "execution_count": 28,
   "id": "c415f4da",
   "metadata": {},
   "outputs": [
    {
     "name": "stdout",
     "output_type": "stream",
     "text": [
      "{'A': [['B', 10]], 'B': [['A', 10]]}\n"
     ]
    }
   ],
   "source": [
    "add_edge_uw(\"A\", \"B\", 10)\n",
    "print(graph)"
   ]
  },
  {
   "cell_type": "code",
   "execution_count": 8,
   "id": "c485ac27",
   "metadata": {},
   "outputs": [
    {
     "name": "stdout",
     "output_type": "stream",
     "text": [
      "{'A': ['B', 'C', 'B', 'C'], 'B': ['A', 'A'], 'C': ['A', 'A']}\n"
     ]
    }
   ],
   "source": [
    "print(graph)"
   ]
  },
  {
   "cell_type": "code",
   "execution_count": 13,
   "id": "eaece9b3",
   "metadata": {},
   "outputs": [],
   "source": [
    "delete_node(\"A\")"
   ]
  },
  {
   "cell_type": "code",
   "execution_count": 14,
   "id": "4d233c06",
   "metadata": {},
   "outputs": [
    {
     "name": "stdout",
     "output_type": "stream",
     "text": [
      "{'B': [], 'C': []}\n"
     ]
    }
   ],
   "source": [
    "print(graph)"
   ]
  },
  {
   "cell_type": "code",
   "execution_count": null,
   "id": "0a870794",
   "metadata": {},
   "outputs": [],
   "source": []
  }
 ],
 "metadata": {
  "kernelspec": {
   "display_name": "Python 3",
   "language": "python",
   "name": "python3"
  },
  "language_info": {
   "codemirror_mode": {
    "name": "ipython",
    "version": 3
   },
   "file_extension": ".py",
   "mimetype": "text/x-python",
   "name": "python",
   "nbconvert_exporter": "python",
   "pygments_lexer": "ipython3",
   "version": "3.8.8"
  }
 },
 "nbformat": 4,
 "nbformat_minor": 5
}
