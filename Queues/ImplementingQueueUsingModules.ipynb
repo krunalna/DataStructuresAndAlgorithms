{
 "cells": [
  {
   "cell_type": "code",
   "execution_count": 17,
   "id": "2d10872f",
   "metadata": {},
   "outputs": [
    {
     "name": "stdout",
     "output_type": "stream",
     "text": [
      "deque([30, 20, 10])\n"
     ]
    },
    {
     "data": {
      "text/plain": [
       "10"
      ]
     },
     "execution_count": 17,
     "metadata": {},
     "output_type": "execute_result"
    }
   ],
   "source": [
    "#implementing queue using modules\n",
    "\n",
    "# use deque class from collections module\n",
    "\n",
    "#deque class gives two options for adding and two options for removing\n",
    "\n",
    "#1. use appendleft(element) method for adding and pop() for removing the element from queu\n",
    "#2. use append(element) method for adding and popleft() method for removing the element from queue\n",
    "\n",
    "\n",
    "import collections\n",
    "\n",
    "q = collections.deque()\n",
    "\n",
    "q.appendleft(10)\n",
    "q.appendleft(20)\n",
    "q.appendleft(30)\n",
    "\n",
    "print(q)\n",
    "q.pop() # to remove element from queue\n"
   ]
  },
  {
   "cell_type": "code",
   "execution_count": 9,
   "id": "3ef4ecdc",
   "metadata": {},
   "outputs": [
    {
     "name": "stdout",
     "output_type": "stream",
     "text": [
      "deque([10, 20, 30])\n"
     ]
    },
    {
     "data": {
      "text/plain": [
       "10"
      ]
     },
     "execution_count": 9,
     "metadata": {},
     "output_type": "execute_result"
    }
   ],
   "source": [
    "#using append and popleft()\n",
    "\n",
    "import collections\n",
    "\n",
    "q1 = collections.deque()\n",
    "\n",
    "q1.append(10)\n",
    "q1.append(20)\n",
    "q1.append(30)\n",
    "\n",
    "print(q1)\n",
    "q1.popleft() # to remove element from queue"
   ]
  },
  {
   "cell_type": "code",
   "execution_count": 19,
   "id": "a7a272d2",
   "metadata": {},
   "outputs": [
    {
     "data": {
      "text/plain": [
       "10"
      ]
     },
     "execution_count": 19,
     "metadata": {},
     "output_type": "execute_result"
    }
   ],
   "source": [
    "import queue\n",
    "\n",
    "q2 = queue.Queue()\n",
    "\n",
    "q2.put(10)\n",
    "q2.put(20)\n",
    "\n",
    "q2.get()"
   ]
  },
  {
   "cell_type": "code",
   "execution_count": null,
   "id": "ac0d54cb",
   "metadata": {},
   "outputs": [],
   "source": []
  }
 ],
 "metadata": {
  "kernelspec": {
   "display_name": "Python 3",
   "language": "python",
   "name": "python3"
  },
  "language_info": {
   "codemirror_mode": {
    "name": "ipython",
    "version": 3
   },
   "file_extension": ".py",
   "mimetype": "text/x-python",
   "name": "python",
   "nbconvert_exporter": "python",
   "pygments_lexer": "ipython3",
   "version": "3.8.8"
  }
 },
 "nbformat": 4,
 "nbformat_minor": 5
}
