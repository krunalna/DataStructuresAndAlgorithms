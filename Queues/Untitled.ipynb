{
 "cells": [
  {
   "cell_type": "code",
   "execution_count": 1,
   "id": "bd8ece6f",
   "metadata": {},
   "outputs": [
    {
     "name": "stdout",
     "output_type": "stream",
     "text": [
      "Select the operation you want to perform on queue. 1.Add 2.Remove 3.Show 4.Quit\n",
      "1\n",
      "Enter the element:1\n",
      "Current queue:  ['1']\n",
      "Select the operation you want to perform on queue. 1.Add 2.Remove 3.Show 4.Quit\n",
      "1\n",
      "Enter the element:2\n",
      "Current queue:  ['1', '2']\n",
      "Select the operation you want to perform on queue. 1.Add 2.Remove 3.Show 4.Quit\n",
      "1\n",
      "Enter the element:3\n",
      "Current queue:  ['1', '2', '3']\n",
      "Select the operation you want to perform on queue. 1.Add 2.Remove 3.Show 4.Quit\n",
      "2\n",
      "Removed Element: 1\n",
      "Select the operation you want to perform on queue. 1.Add 2.Remove 3.Show 4.Quit\n",
      "2\n",
      "Removed Element: 2\n",
      "Select the operation you want to perform on queue. 1.Add 2.Remove 3.Show 4.Quit\n",
      "3\n",
      "['3']\n",
      "Select the operation you want to perform on queue. 1.Add 2.Remove 3.Show 4.Quit\n",
      "4\n"
     ]
    }
   ],
   "source": [
    "#Implementing Queue using List\n",
    "\n",
    "queue = []\n",
    "\n",
    "def enqueue():\n",
    "    element = input(\"Enter the element:\")\n",
    "    queue.append(element)\n",
    "    print(\"Current queue: \", queue)\n",
    "    \n",
    "def dequeue():\n",
    "    if not queue:\n",
    "        print(\"Queue is empty!\")\n",
    "    else:\n",
    "        e = queue.pop(0)  # removing item from Oth index\n",
    "        print(\"Removed Element:\", e)\n",
    "        \n",
    "def display():\n",
    "    print(queue)\n",
    "\n",
    "while True:\n",
    "\n",
    "    print(\"Select the operation you want to perform on queue. 1.Add 2.Remove 3.Show 4.Quit\")\n",
    "    \n",
    "    choice = int(input())\n",
    "    \n",
    "    if choice == 1:\n",
    "        enqueue()\n",
    "    elif choice ==2:\n",
    "        dequeue()\n",
    "    elif choice == 3:\n",
    "        display()\n",
    "    elif choice ==4:\n",
    "        break\n",
    "    else:\n",
    "        print(\"Invalid input\")\n",
    "    \n",
    "    "
   ]
  },
  {
   "cell_type": "code",
   "execution_count": null,
   "id": "fc640543",
   "metadata": {},
   "outputs": [],
   "source": []
  }
 ],
 "metadata": {
  "kernelspec": {
   "display_name": "Python 3",
   "language": "python",
   "name": "python3"
  },
  "language_info": {
   "codemirror_mode": {
    "name": "ipython",
    "version": 3
   },
   "file_extension": ".py",
   "mimetype": "text/x-python",
   "name": "python",
   "nbconvert_exporter": "python",
   "pygments_lexer": "ipython3",
   "version": "3.8.8"
  }
 },
 "nbformat": 4,
 "nbformat_minor": 5
}
