{
 "cells": [
  {
   "cell_type": "code",
   "execution_count": 4,
   "id": "213127c6",
   "metadata": {},
   "outputs": [],
   "source": [
    "import heapq"
   ]
  },
  {
   "cell_type": "code",
   "execution_count": 5,
   "id": "4a7d5b9d",
   "metadata": {},
   "outputs": [
    {
     "data": {
      "text/plain": [
       "[1, 10]"
      ]
     },
     "execution_count": 5,
     "metadata": {},
     "output_type": "execute_result"
    }
   ],
   "source": [
    "heap = []\n",
    "\n",
    "heapq.heappush(heap, 10)\n",
    "heapq.heappush(heap,1)\n",
    "heap"
   ]
  },
  {
   "cell_type": "code",
   "execution_count": 6,
   "id": "70ad3ffc",
   "metadata": {},
   "outputs": [],
   "source": [
    "heapq.heappush(heap,5)"
   ]
  },
  {
   "cell_type": "code",
   "execution_count": 7,
   "id": "458f35e2",
   "metadata": {},
   "outputs": [
    {
     "data": {
      "text/plain": [
       "1"
      ]
     },
     "execution_count": 7,
     "metadata": {},
     "output_type": "execute_result"
    }
   ],
   "source": [
    "heapq.heappop(heap)"
   ]
  },
  {
   "cell_type": "code",
   "execution_count": 8,
   "id": "59c3cacf",
   "metadata": {},
   "outputs": [
    {
     "data": {
      "text/plain": [
       "[5, 10]"
      ]
     },
     "execution_count": 8,
     "metadata": {},
     "output_type": "execute_result"
    }
   ],
   "source": [
    "heap"
   ]
  },
  {
   "cell_type": "code",
   "execution_count": 9,
   "id": "1fb1f735",
   "metadata": {},
   "outputs": [
    {
     "data": {
      "text/plain": [
       "5"
      ]
     },
     "execution_count": 9,
     "metadata": {},
     "output_type": "execute_result"
    }
   ],
   "source": [
    "heapq.heappop(heap)"
   ]
  },
  {
   "cell_type": "code",
   "execution_count": 10,
   "id": "28e99d7a",
   "metadata": {},
   "outputs": [
    {
     "data": {
      "text/plain": [
       "[10]"
      ]
     },
     "execution_count": 10,
     "metadata": {},
     "output_type": "execute_result"
    }
   ],
   "source": [
    "heap"
   ]
  },
  {
   "cell_type": "code",
   "execution_count": 11,
   "id": "3fcc95e0",
   "metadata": {},
   "outputs": [],
   "source": [
    "l = [1,4,2,5,2,6,7,9,0]\n",
    "heapq.heapify(l)"
   ]
  },
  {
   "cell_type": "code",
   "execution_count": 12,
   "id": "cf6f5a02",
   "metadata": {},
   "outputs": [
    {
     "data": {
      "text/plain": [
       "[0, 1, 2, 4, 2, 6, 7, 9, 5]"
      ]
     },
     "execution_count": 12,
     "metadata": {},
     "output_type": "execute_result"
    }
   ],
   "source": [
    "l"
   ]
  },
  {
   "cell_type": "code",
   "execution_count": 13,
   "id": "37bbe108",
   "metadata": {},
   "outputs": [
    {
     "data": {
      "text/plain": [
       "[0, 1]"
      ]
     },
     "execution_count": 13,
     "metadata": {},
     "output_type": "execute_result"
    }
   ],
   "source": [
    "heapq.nsmallest(2,l)"
   ]
  },
  {
   "cell_type": "code",
   "execution_count": 15,
   "id": "66d7ceea",
   "metadata": {},
   "outputs": [
    {
     "data": {
      "text/plain": [
       "[9, 7, 6, 5]"
      ]
     },
     "execution_count": 15,
     "metadata": {},
     "output_type": "execute_result"
    }
   ],
   "source": [
    "heapq.nlargest(4,l)"
   ]
  },
  {
   "cell_type": "code",
   "execution_count": null,
   "id": "097f0984",
   "metadata": {},
   "outputs": [],
   "source": []
  },
  {
   "cell_type": "code",
   "execution_count": 24,
   "id": "755f4672",
   "metadata": {},
   "outputs": [
    {
     "name": "stdout",
     "output_type": "stream",
     "text": [
      "[-80, 50, 10]\n"
     ]
    }
   ],
   "source": [
    "import heapq\n",
    "heap = []\n",
    "k = 3\n",
    "A = [50, -80, 10, -30, 90, 100, 20, -40, 105, 95]\n",
    "\n",
    "for i in range(k):\n",
    "    heapq.heappush(heap,A[i])\n",
    "    \n",
    "print(heap)\n",
    "total = sum(heap)"
   ]
  },
  {
   "cell_type": "code",
   "execution_count": 25,
   "id": "ace675b0",
   "metadata": {},
   "outputs": [
    {
     "name": "stdout",
     "output_type": "stream",
     "text": [
      "[-20, 30, 150, 240, 240, 240, 295, 300]\n"
     ]
    }
   ],
   "source": [
    "result = [total]\n",
    "for index in range(k, len(A)):\n",
    "    total = total+A[index]\n",
    "    heapq.heappush(heap,A[index])\n",
    "    smallest_element = heapq.heappop(heap)\n",
    "    total = total-smallest_element\n",
    "    \n",
    "    result.append(total)\n",
    "    \n",
    "print(result)\n",
    "    "
   ]
  },
  {
   "cell_type": "code",
   "execution_count": null,
   "id": "8603d62f",
   "metadata": {},
   "outputs": [],
   "source": []
  }
 ],
 "metadata": {
  "kernelspec": {
   "display_name": "Python 3",
   "language": "python",
   "name": "python3"
  },
  "language_info": {
   "codemirror_mode": {
    "name": "ipython",
    "version": 3
   },
   "file_extension": ".py",
   "mimetype": "text/x-python",
   "name": "python",
   "nbconvert_exporter": "python",
   "pygments_lexer": "ipython3",
   "version": "3.8.8"
  }
 },
 "nbformat": 4,
 "nbformat_minor": 5
}
