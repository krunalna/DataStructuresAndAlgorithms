{
 "cells": [
  {
   "cell_type": "code",
   "execution_count": 1,
   "id": "e43b0676",
   "metadata": {},
   "outputs": [],
   "source": [
    "#Singly Linked List\n"
   ]
  },
  {
   "cell_type": "code",
   "execution_count": 26,
   "id": "39b03cfe",
   "metadata": {},
   "outputs": [],
   "source": [
    "class Node:\n",
    "    \n",
    "    def __init__(self, data):\n",
    "        self.data = data\n",
    "        self.next = None\n",
    "        \n",
    "class LinkedList:\n",
    "    \n",
    "    def __init__(self):\n",
    "        self.head = None\n",
    "        \n",
    "    def print_LL(self):   #method for traversal\n",
    "        \n",
    "        if self.head is None:\n",
    "            print(\"LL is empty!\")\n",
    "        else:\n",
    "            n = self.head\n",
    "            \n",
    "            while n is not None:\n",
    "                #print(n.data)\n",
    "                \n",
    "                print(n.data, \"-->\", end = \" \")\n",
    "                n=n.next\n",
    "                \n",
    "    \n",
    "    def add_begin(self, data):  # add new node at beginning\n",
    "        \n",
    "        n = Node(data)\n",
    "            \n",
    "        n.next = self.head\n",
    "        self.head = n\n",
    "        \n",
    "    def add_end(self, data):  # add new node at the end\n",
    "        \n",
    "        n  = Node(data)\n",
    "        \n",
    "        if self.head  is None:\n",
    "            self.head = n\n",
    "        else:\n",
    "            curr = self.head\n",
    "            while curr.next is not None:\n",
    "                curr = curr.next\n",
    "                \n",
    "            curr.next= n\n",
    "            \n",
    "    def add_after_node(self, data, x ):  # add new node after node  x\n",
    "        \n",
    "        n = Node(data)\n",
    "        \n",
    "        curr = self.head\n",
    "        \n",
    "        while curr is not None :\n",
    "            \n",
    "            if x == curr.data:\n",
    "                break\n",
    "        \n",
    "            curr = curr.next\n",
    "            \n",
    "        \n",
    "        if curr is None:\n",
    "            print(\"Node is not present in the LL\")\n",
    "        else:\n",
    "            n.next = curr.next\n",
    "            curr.next = n\n",
    "            \n",
    "        \n",
    "        \n",
    "    def add_before_node(self, data, x):\n",
    "        \n",
    "        if self.head is None:\n",
    "            print(\"LL is empty\")\n",
    "            return\n",
    "        \n",
    "        \n",
    "        if self.head.data == x:\n",
    "            self.add_begin(data)\n",
    "            return\n",
    "            \n",
    "        \n",
    "        curr = self.head\n",
    "        \n",
    "        while curr.next is not None:\n",
    "            \n",
    "            if curr.next.data  == x:\n",
    "                break\n",
    "            curr = curr.next\n",
    "            \n",
    "        if curr.next is None:\n",
    "            print(\"Node not found\")\n",
    "        \n",
    "        else:\n",
    "            n = Node(data)\n",
    "            n.next = curr.next\n",
    "            curr.next = n \n",
    "            \n",
    "        \n",
    "    def insert_empty(self, data):\n",
    "        \n",
    "        if self.head is None:\n",
    "            n = Node(data)\n",
    "            self.head = n\n",
    "            \n",
    "        else:\n",
    "            print(\"LL is not empty!\")\n",
    "            \n",
    "    \n",
    "    \n",
    "    def delete_begin(self):   # delete node from start\n",
    "        \n",
    "        if self.head == None:\n",
    "            print(\"LL is empty\")\n",
    "            return\n",
    "        \n",
    "        self.head = self.head.next\n",
    "        \n",
    "    \n",
    "    def delete_end(self):\n",
    "        \n",
    "        if self.head is None:\n",
    "            print(\"LL is empty\")\n",
    "            \n",
    "        elif self.head.next is None:\n",
    "            self.head = None\n",
    "            \n",
    "        else:\n",
    "            curr = self.head\n",
    "            \n",
    "            while curr.next.next is not None:\n",
    "                curr = curr.next\n",
    "                \n",
    "                \n",
    "            curr.next = None\n",
    "            \n",
    "        \n",
    "    def delete_by_value(self, x):\n",
    "        \n",
    "        if self.head is None:\n",
    "            print(\"LL is empty\")\n",
    "        \n",
    "        elif self.head.data ==x:\n",
    "            self.head = self.head.next\n",
    "            \n",
    "        else:\n",
    "            \n",
    "            curr = self.head\n",
    "            \n",
    "            while curr.next.data != x:\n",
    "                curr = curr.next\n",
    "                \n",
    "            \n",
    "            if curr.next is None:\n",
    "                print(\"Node not found!\")\n",
    "                \n",
    "            else:\n",
    "                curr.next = curr.next.next\n",
    "            \n",
    "            \n",
    "        \n",
    "    \n",
    "            \n",
    "        \n",
    "            \n",
    "        \n",
    "        \n",
    "            \n",
    "        \n",
    "        \n",
    "        \n",
    "            \n",
    "    \n",
    "            \n"
   ]
  },
  {
   "cell_type": "code",
   "execution_count": 34,
   "id": "86fada67",
   "metadata": {},
   "outputs": [
    {
     "name": "stdout",
     "output_type": "stream",
     "text": [
      "Node is not present in the LL\n",
      "LL is not empty!\n",
      "20 --> 10 --> 40 --> 45 --> 5 --> 100 --> "
     ]
    }
   ],
   "source": [
    "LL1 = LinkedList()\n",
    "LL1.insert_empty(45)\n",
    "LL1.add_begin(10)\n",
    "LL1.add_end(100)\n",
    "LL1.add_begin(20)\n",
    "LL1.add_after_node(40,10)\n",
    "LL1.add_after_node(30, 30)\n",
    "LL1.insert_empty(55)\n",
    "LL1.add_before_node(5,100)\n",
    "LL1.print_LL()"
   ]
  },
  {
   "cell_type": "code",
   "execution_count": 10,
   "id": "2ee59214",
   "metadata": {},
   "outputs": [],
   "source": [
    "LL1.delete_begin()"
   ]
  },
  {
   "cell_type": "code",
   "execution_count": 19,
   "id": "b06791c5",
   "metadata": {},
   "outputs": [
    {
     "name": "stdout",
     "output_type": "stream",
     "text": [
      "20 --> 10 --> 40 --> 45 --> 5 --> 100 --> "
     ]
    }
   ],
   "source": [
    "LL1.print_LL()"
   ]
  },
  {
   "cell_type": "code",
   "execution_count": 25,
   "id": "7e8e29c0",
   "metadata": {},
   "outputs": [
    {
     "name": "stdout",
     "output_type": "stream",
     "text": [
      "LL is empty!\n"
     ]
    }
   ],
   "source": [
    "LL1.delete_end()\n",
    "LL1.print_LL()"
   ]
  },
  {
   "cell_type": "code",
   "execution_count": 32,
   "id": "c28b1766",
   "metadata": {},
   "outputs": [],
   "source": [
    "LL1.delete_by_value(100)"
   ]
  },
  {
   "cell_type": "code",
   "execution_count": 35,
   "id": "27139504",
   "metadata": {},
   "outputs": [
    {
     "name": "stdout",
     "output_type": "stream",
     "text": [
      "20 --> 10 --> 40 --> 45 --> 5 --> 100 --> "
     ]
    }
   ],
   "source": [
    "LL1.print_LL()"
   ]
  },
  {
   "cell_type": "code",
   "execution_count": null,
   "id": "80850908",
   "metadata": {},
   "outputs": [],
   "source": []
  }
 ],
 "metadata": {
  "kernelspec": {
   "display_name": "Python 3",
   "language": "python",
   "name": "python3"
  },
  "language_info": {
   "codemirror_mode": {
    "name": "ipython",
    "version": 3
   },
   "file_extension": ".py",
   "mimetype": "text/x-python",
   "name": "python",
   "nbconvert_exporter": "python",
   "pygments_lexer": "ipython3",
   "version": "3.8.8"
  }
 },
 "nbformat": 4,
 "nbformat_minor": 5
}
